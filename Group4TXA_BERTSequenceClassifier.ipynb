{
 "cells": [
  {
   "cell_type": "markdown",
   "id": "e5a5485f-ba8f-422b-a8c2-ae064f74a9f4",
   "metadata": {
    "id": "e5a5485f-ba8f-422b-a8c2-ae064f74a9f4"
   },
   "source": [
    "### Gruppo 4 Text Analytics 2022/23\n",
    "- Simona Sette\n",
    "- Giulio Canapa\n",
    "- Sara Quattrone\n",
    "- Diego Borsetto"
   ]
  },
  {
   "cell_type": "markdown",
   "id": "23962240-1a49-4f3b-bc4a-98c0821da79c",
   "metadata": {
    "id": "23962240-1a49-4f3b-bc4a-98c0821da79c"
   },
   "source": [
    "# BERT for classification"
   ]
  },
  {
   "cell_type": "markdown",
   "id": "eb4fc0be-5045-4e4e-8e83-e8c74fb0c1f2",
   "metadata": {
    "id": "eb4fc0be-5045-4e4e-8e83-e8c74fb0c1f2"
   },
   "source": [
    "The Bert for Sequence classifier was implemented in order to evaluate whether a transformers language model could return  better results than the previous classifiers, proving to be suitable for the task objective."
   ]
  },
  {
   "cell_type": "markdown",
   "id": "48ef876e-2e4c-4f74-90c2-dad70d8c25a6",
   "metadata": {
    "id": "48ef876e-2e4c-4f74-90c2-dad70d8c25a6"
   },
   "source": [
    "## Import"
   ]
  },
  {
   "cell_type": "code",
   "execution_count": 3,
   "id": "4cbf2cc3-c6fa-4dca-840c-e3bfa390b88c",
   "metadata": {
    "id": "4cbf2cc3-c6fa-4dca-840c-e3bfa390b88c",
    "scrolled": true
   },
   "outputs": [],
   "source": [
    "import pandas as pd\n",
    "import csv\n",
    "import os.path\n",
    "import numpy as np\n",
    "import seaborn as sns\n",
    "sns.set()\n",
    "import matplotlib\n",
    "matplotlib.use('Agg')\n",
    "import matplotlib.pyplot as plt\n",
    "from sklearn.metrics import confusion_matrix, classification_report\n",
    "import nltk\n",
    "from nltk.stem.wordnet import WordNetLemmatizer\n",
    "from nltk.stem import WordNetLemmatizer\n",
    "wnl = WordNetLemmatizer()\n",
    "from imblearn.under_sampling import RandomUnderSampler\n",
    "from collections import Counter\n",
    "from sklearn.model_selection import train_test_split\n",
    "import re\n",
    "import warnings\n",
    "warnings.filterwarnings(\"ignore\")\n",
    "\n",
    "import torch\n",
    "from torch.utils.data import (TensorDataset, DataLoader,\n",
    "                              RandomSampler, SequentialSampler)\n",
    "from transformers import BertTokenizer, BertConfig\n",
    "from transformers import BertForSequenceClassification\n",
    "from transformers import AdamW, get_linear_schedule_with_warmup\n",
    "from distutils.version import LooseVersion as LV\n",
    "from sklearn.model_selection import train_test_split\n",
    "import io\n",
    "from tqdm import tqdm"
   ]
  },
  {
   "cell_type": "code",
   "execution_count": 4,
   "id": "487406fd-749a-4270-a5f7-928af91bbdf5",
   "metadata": {
    "colab": {
     "base_uri": "https://localhost:8080/"
    },
    "id": "487406fd-749a-4270-a5f7-928af91bbdf5",
    "outputId": "7477f8e5-06b1-4d96-ea99-0eb58bfda05a"
   },
   "outputs": [
    {
     "name": "stdout",
     "output_type": "stream",
     "text": [
      "Using PyTorch version: 1.13.1+cu116 Device: cuda [Tesla T4]\n"
     ]
    }
   ],
   "source": [
    "if torch.cuda.is_available():\n",
    "    device = torch.device('cuda')\n",
    "    devicename = '['+torch.cuda.get_device_name(0)+']'\n",
    "else:\n",
    "    device = torch.device('cpu')\n",
    "    devicename = \"\"\n",
    "    \n",
    "print('Using PyTorch version:', torch.__version__,\n",
    "      'Device:', device, devicename)\n",
    "assert(LV(torch.__version__) >= LV(\"1.0.0\"))"
   ]
  },
  {
   "cell_type": "code",
   "execution_count": 5,
   "id": "682ce6eb-f026-49d8-a0a5-9c7a6e8c70de",
   "metadata": {
    "id": "682ce6eb-f026-49d8-a0a5-9c7a6e8c70de"
   },
   "outputs": [],
   "source": [
    "df = pd.read_csv(\"/content/Multiclass_problem_7Classes.csv\" ,sep=',', header=0)"
   ]
  },
  {
   "cell_type": "markdown",
   "id": "0f623bd6-aa16-46ee-9e6f-9dde0f1da55a",
   "metadata": {
    "id": "0f623bd6-aa16-46ee-9e6f-9dde0f1da55a"
   },
   "source": [
    "## Data preparation"
   ]
  },
  {
   "cell_type": "code",
   "execution_count": 6,
   "id": "166f7605-fdb4-4be0-98b4-a648d86c9a34",
   "metadata": {
    "colab": {
     "base_uri": "https://localhost:8080/",
     "height": 423
    },
    "id": "166f7605-fdb4-4be0-98b4-a648d86c9a34",
    "outputId": "0bbf640c-9b46-4c6a-c217-2c7644520eb7"
   },
   "outputs": [
    {
     "data": {
      "text/html": [
       "\n",
       "  <div id=\"df-ef6d1382-2b7f-40d3-86cb-00cf999f46df\">\n",
       "    <div class=\"colab-df-container\">\n",
       "      <div>\n",
       "<style scoped>\n",
       "    .dataframe tbody tr th:only-of-type {\n",
       "        vertical-align: middle;\n",
       "    }\n",
       "\n",
       "    .dataframe tbody tr th {\n",
       "        vertical-align: top;\n",
       "    }\n",
       "\n",
       "    .dataframe thead th {\n",
       "        text-align: right;\n",
       "    }\n",
       "</style>\n",
       "<table border=\"1\" class=\"dataframe\">\n",
       "  <thead>\n",
       "    <tr style=\"text-align: right;\">\n",
       "      <th></th>\n",
       "      <th>Technique</th>\n",
       "      <th>Text</th>\n",
       "    </tr>\n",
       "  </thead>\n",
       "  <tbody>\n",
       "    <tr>\n",
       "      <th>0</th>\n",
       "      <td>Doubt</td>\n",
       "      <td>Geneva - The World Health Organisation chief o...</td>\n",
       "    </tr>\n",
       "    <tr>\n",
       "      <th>1</th>\n",
       "      <td>Repetition</td>\n",
       "      <td>But Tedros voiced alarm that \"plague in Madaga...</td>\n",
       "    </tr>\n",
       "    <tr>\n",
       "      <th>2</th>\n",
       "      <td>Appeal_to_Fear-Prejudice</td>\n",
       "      <td>He also pointed to the presence of the pneumon...</td>\n",
       "    </tr>\n",
       "    <tr>\n",
       "      <th>3</th>\n",
       "      <td>Appeal_to_Fear-Prejudice</td>\n",
       "      <td>He praised the rapid response from WHO and Mad...</td>\n",
       "    </tr>\n",
       "    <tr>\n",
       "      <th>4</th>\n",
       "      <td>Appeal_to_Fear-Prejudice</td>\n",
       "      <td>That means that Madagascar could be affected m...</td>\n",
       "    </tr>\n",
       "    <tr>\n",
       "      <th>...</th>\n",
       "      <td>...</td>\n",
       "      <td>...</td>\n",
       "    </tr>\n",
       "    <tr>\n",
       "      <th>1873</th>\n",
       "      <td>Doubt</td>\n",
       "      <td>The story was completely false and the Guardia...</td>\n",
       "    </tr>\n",
       "    <tr>\n",
       "      <th>1874</th>\n",
       "      <td>Loaded_Language</td>\n",
       "      <td>Andy Warhol was only half-right. In the future...</td>\n",
       "    </tr>\n",
       "    <tr>\n",
       "      <th>1875</th>\n",
       "      <td>Exaggeration-Minimisation</td>\n",
       "      <td>Saturday Night Live writer and comedian Nimesh...</td>\n",
       "    </tr>\n",
       "    <tr>\n",
       "      <th>1876</th>\n",
       "      <td>Name_Calling-Labeling</td>\n",
       "      <td>That's what Columbia snowflakes thought was of...</td>\n",
       "    </tr>\n",
       "    <tr>\n",
       "      <th>1877</th>\n",
       "      <td>Exaggeration-Minimisation</td>\n",
       "      <td>I'm sure Patel felt very, like, accepted.</td>\n",
       "    </tr>\n",
       "  </tbody>\n",
       "</table>\n",
       "<p>1878 rows × 2 columns</p>\n",
       "</div>\n",
       "      <button class=\"colab-df-convert\" onclick=\"convertToInteractive('df-ef6d1382-2b7f-40d3-86cb-00cf999f46df')\"\n",
       "              title=\"Convert this dataframe to an interactive table.\"\n",
       "              style=\"display:none;\">\n",
       "        \n",
       "  <svg xmlns=\"http://www.w3.org/2000/svg\" height=\"24px\"viewBox=\"0 0 24 24\"\n",
       "       width=\"24px\">\n",
       "    <path d=\"M0 0h24v24H0V0z\" fill=\"none\"/>\n",
       "    <path d=\"M18.56 5.44l.94 2.06.94-2.06 2.06-.94-2.06-.94-.94-2.06-.94 2.06-2.06.94zm-11 1L8.5 8.5l.94-2.06 2.06-.94-2.06-.94L8.5 2.5l-.94 2.06-2.06.94zm10 10l.94 2.06.94-2.06 2.06-.94-2.06-.94-.94-2.06-.94 2.06-2.06.94z\"/><path d=\"M17.41 7.96l-1.37-1.37c-.4-.4-.92-.59-1.43-.59-.52 0-1.04.2-1.43.59L10.3 9.45l-7.72 7.72c-.78.78-.78 2.05 0 2.83L4 21.41c.39.39.9.59 1.41.59.51 0 1.02-.2 1.41-.59l7.78-7.78 2.81-2.81c.8-.78.8-2.07 0-2.86zM5.41 20L4 18.59l7.72-7.72 1.47 1.35L5.41 20z\"/>\n",
       "  </svg>\n",
       "      </button>\n",
       "      \n",
       "  <style>\n",
       "    .colab-df-container {\n",
       "      display:flex;\n",
       "      flex-wrap:wrap;\n",
       "      gap: 12px;\n",
       "    }\n",
       "\n",
       "    .colab-df-convert {\n",
       "      background-color: #E8F0FE;\n",
       "      border: none;\n",
       "      border-radius: 50%;\n",
       "      cursor: pointer;\n",
       "      display: none;\n",
       "      fill: #1967D2;\n",
       "      height: 32px;\n",
       "      padding: 0 0 0 0;\n",
       "      width: 32px;\n",
       "    }\n",
       "\n",
       "    .colab-df-convert:hover {\n",
       "      background-color: #E2EBFA;\n",
       "      box-shadow: 0px 1px 2px rgba(60, 64, 67, 0.3), 0px 1px 3px 1px rgba(60, 64, 67, 0.15);\n",
       "      fill: #174EA6;\n",
       "    }\n",
       "\n",
       "    [theme=dark] .colab-df-convert {\n",
       "      background-color: #3B4455;\n",
       "      fill: #D2E3FC;\n",
       "    }\n",
       "\n",
       "    [theme=dark] .colab-df-convert:hover {\n",
       "      background-color: #434B5C;\n",
       "      box-shadow: 0px 1px 3px 1px rgba(0, 0, 0, 0.15);\n",
       "      filter: drop-shadow(0px 1px 2px rgba(0, 0, 0, 0.3));\n",
       "      fill: #FFFFFF;\n",
       "    }\n",
       "  </style>\n",
       "\n",
       "      <script>\n",
       "        const buttonEl =\n",
       "          document.querySelector('#df-ef6d1382-2b7f-40d3-86cb-00cf999f46df button.colab-df-convert');\n",
       "        buttonEl.style.display =\n",
       "          google.colab.kernel.accessAllowed ? 'block' : 'none';\n",
       "\n",
       "        async function convertToInteractive(key) {\n",
       "          const element = document.querySelector('#df-ef6d1382-2b7f-40d3-86cb-00cf999f46df');\n",
       "          const dataTable =\n",
       "            await google.colab.kernel.invokeFunction('convertToInteractive',\n",
       "                                                     [key], {});\n",
       "          if (!dataTable) return;\n",
       "\n",
       "          const docLinkHtml = 'Like what you see? Visit the ' +\n",
       "            '<a target=\"_blank\" href=https://colab.research.google.com/notebooks/data_table.ipynb>data table notebook</a>'\n",
       "            + ' to learn more about interactive tables.';\n",
       "          element.innerHTML = '';\n",
       "          dataTable['output_type'] = 'display_data';\n",
       "          await google.colab.output.renderOutput(dataTable, element);\n",
       "          const docLink = document.createElement('div');\n",
       "          docLink.innerHTML = docLinkHtml;\n",
       "          element.appendChild(docLink);\n",
       "        }\n",
       "      </script>\n",
       "    </div>\n",
       "  </div>\n",
       "  "
      ],
      "text/plain": [
       "                      Technique  \\\n",
       "0                         Doubt   \n",
       "1                    Repetition   \n",
       "2      Appeal_to_Fear-Prejudice   \n",
       "3      Appeal_to_Fear-Prejudice   \n",
       "4      Appeal_to_Fear-Prejudice   \n",
       "...                         ...   \n",
       "1873                      Doubt   \n",
       "1874            Loaded_Language   \n",
       "1875  Exaggeration-Minimisation   \n",
       "1876      Name_Calling-Labeling   \n",
       "1877  Exaggeration-Minimisation   \n",
       "\n",
       "                                                   Text  \n",
       "0     Geneva - The World Health Organisation chief o...  \n",
       "1     But Tedros voiced alarm that \"plague in Madaga...  \n",
       "2     He also pointed to the presence of the pneumon...  \n",
       "3     He praised the rapid response from WHO and Mad...  \n",
       "4     That means that Madagascar could be affected m...  \n",
       "...                                                 ...  \n",
       "1873  The story was completely false and the Guardia...  \n",
       "1874  Andy Warhol was only half-right. In the future...  \n",
       "1875  Saturday Night Live writer and comedian Nimesh...  \n",
       "1876  That's what Columbia snowflakes thought was of...  \n",
       "1877          I'm sure Patel felt very, like, accepted.  \n",
       "\n",
       "[1878 rows x 2 columns]"
      ]
     },
     "execution_count": 6,
     "metadata": {},
     "output_type": "execute_result"
    }
   ],
   "source": [
    "#dropping all the columns not interesting for the classification\n",
    "df.drop(['Article', 'Paragraph','ID'], axis=1, inplace=True)\n",
    "df"
   ]
  },
  {
   "cell_type": "markdown",
   "id": "d2adb7db-f1bd-4f86-9764-7c134fb8e05d",
   "metadata": {
    "id": "d2adb7db-f1bd-4f86-9764-7c134fb8e05d"
   },
   "source": [
    "Generation of dataframes containing persuasion techniques (y) and paragraph textual content (X)."
   ]
  },
  {
   "cell_type": "code",
   "execution_count": 7,
   "id": "aa724155-e296-4efb-be3f-c40510c4133e",
   "metadata": {
    "id": "aa724155-e296-4efb-be3f-c40510c4133e"
   },
   "outputs": [],
   "source": [
    "y=df['Technique']\n",
    "X=df.loc[:, df.columns != 'Technique']"
   ]
  },
  {
   "cell_type": "markdown",
   "id": "8a69c370-f8e1-48d3-8e77-355cf619c8f2",
   "metadata": {
    "id": "8a69c370-f8e1-48d3-8e77-355cf619c8f2"
   },
   "source": [
    "Performing Random Undersampling in order to reduce the majority class (Loaded_Language with 806 records)."
   ]
  },
  {
   "cell_type": "code",
   "execution_count": 8,
   "id": "45391cc0-63de-4745-b205-89d69117f437",
   "metadata": {
    "id": "45391cc0-63de-4745-b205-89d69117f437"
   },
   "outputs": [],
   "source": [
    "undersample = RandomUnderSampler(sampling_strategy={'Name_Calling-Labeling': 318, 'Repetition': 218, 'Doubt': 210, 'Appeal_to_Fear-Prejudice': 122, \n",
    "                                                    'Exaggeration-Minimisation': 102, 'Flag_Waving': 102, 'Loaded_Language': 350})\n",
    "# fit and apply the transform\n",
    "X_under, y_under = undersample.fit_resample(X, y)"
   ]
  },
  {
   "cell_type": "code",
   "execution_count": 9,
   "id": "11ac5bff-aa40-486e-9d2a-d7e994e9f89a",
   "metadata": {
    "colab": {
     "base_uri": "https://localhost:8080/",
     "height": 423
    },
    "id": "11ac5bff-aa40-486e-9d2a-d7e994e9f89a",
    "outputId": "16d4b414-69d3-40cd-8cc6-8342d1a2c0c0"
   },
   "outputs": [
    {
     "data": {
      "text/html": [
       "\n",
       "  <div id=\"df-38e873bb-7014-40dc-983d-e1a392008f1f\">\n",
       "    <div class=\"colab-df-container\">\n",
       "      <div>\n",
       "<style scoped>\n",
       "    .dataframe tbody tr th:only-of-type {\n",
       "        vertical-align: middle;\n",
       "    }\n",
       "\n",
       "    .dataframe tbody tr th {\n",
       "        vertical-align: top;\n",
       "    }\n",
       "\n",
       "    .dataframe thead th {\n",
       "        text-align: right;\n",
       "    }\n",
       "</style>\n",
       "<table border=\"1\" class=\"dataframe\">\n",
       "  <thead>\n",
       "    <tr style=\"text-align: right;\">\n",
       "      <th></th>\n",
       "      <th>Text</th>\n",
       "    </tr>\n",
       "  </thead>\n",
       "  <tbody>\n",
       "    <tr>\n",
       "      <th>0</th>\n",
       "      <td>“Bishops are quick learners,” he wrote in his ...</td>\n",
       "    </tr>\n",
       "    <tr>\n",
       "      <th>1</th>\n",
       "      <td>“I have done what I believe God wanted me to d...</td>\n",
       "    </tr>\n",
       "    <tr>\n",
       "      <th>2</th>\n",
       "      <td>Ebola is one of the world's most notorious dis...</td>\n",
       "    </tr>\n",
       "    <tr>\n",
       "      <th>3</th>\n",
       "      <td>Paul Hunter, a professor of health protection ...</td>\n",
       "    </tr>\n",
       "    <tr>\n",
       "      <th>4</th>\n",
       "      <td>And whoso falleth not down and worshippeth sha...</td>\n",
       "    </tr>\n",
       "    <tr>\n",
       "      <th>...</th>\n",
       "      <td>...</td>\n",
       "    </tr>\n",
       "    <tr>\n",
       "      <th>1417</th>\n",
       "      <td>The document makes it inarguable that the fede...</td>\n",
       "    </tr>\n",
       "    <tr>\n",
       "      <th>1418</th>\n",
       "      <td>When the Russians retaliated, the Trump admini...</td>\n",
       "    </tr>\n",
       "    <tr>\n",
       "      <th>1419</th>\n",
       "      <td>Trumpism is not a detour, after which we can a...</td>\n",
       "    </tr>\n",
       "    <tr>\n",
       "      <th>1420</th>\n",
       "      <td>Other theories behind the health issues in Cub...</td>\n",
       "    </tr>\n",
       "    <tr>\n",
       "      <th>1421</th>\n",
       "      <td>Since teachers are not allowed to arm themselv...</td>\n",
       "    </tr>\n",
       "  </tbody>\n",
       "</table>\n",
       "<p>1422 rows × 1 columns</p>\n",
       "</div>\n",
       "      <button class=\"colab-df-convert\" onclick=\"convertToInteractive('df-38e873bb-7014-40dc-983d-e1a392008f1f')\"\n",
       "              title=\"Convert this dataframe to an interactive table.\"\n",
       "              style=\"display:none;\">\n",
       "        \n",
       "  <svg xmlns=\"http://www.w3.org/2000/svg\" height=\"24px\"viewBox=\"0 0 24 24\"\n",
       "       width=\"24px\">\n",
       "    <path d=\"M0 0h24v24H0V0z\" fill=\"none\"/>\n",
       "    <path d=\"M18.56 5.44l.94 2.06.94-2.06 2.06-.94-2.06-.94-.94-2.06-.94 2.06-2.06.94zm-11 1L8.5 8.5l.94-2.06 2.06-.94-2.06-.94L8.5 2.5l-.94 2.06-2.06.94zm10 10l.94 2.06.94-2.06 2.06-.94-2.06-.94-.94-2.06-.94 2.06-2.06.94z\"/><path d=\"M17.41 7.96l-1.37-1.37c-.4-.4-.92-.59-1.43-.59-.52 0-1.04.2-1.43.59L10.3 9.45l-7.72 7.72c-.78.78-.78 2.05 0 2.83L4 21.41c.39.39.9.59 1.41.59.51 0 1.02-.2 1.41-.59l7.78-7.78 2.81-2.81c.8-.78.8-2.07 0-2.86zM5.41 20L4 18.59l7.72-7.72 1.47 1.35L5.41 20z\"/>\n",
       "  </svg>\n",
       "      </button>\n",
       "      \n",
       "  <style>\n",
       "    .colab-df-container {\n",
       "      display:flex;\n",
       "      flex-wrap:wrap;\n",
       "      gap: 12px;\n",
       "    }\n",
       "\n",
       "    .colab-df-convert {\n",
       "      background-color: #E8F0FE;\n",
       "      border: none;\n",
       "      border-radius: 50%;\n",
       "      cursor: pointer;\n",
       "      display: none;\n",
       "      fill: #1967D2;\n",
       "      height: 32px;\n",
       "      padding: 0 0 0 0;\n",
       "      width: 32px;\n",
       "    }\n",
       "\n",
       "    .colab-df-convert:hover {\n",
       "      background-color: #E2EBFA;\n",
       "      box-shadow: 0px 1px 2px rgba(60, 64, 67, 0.3), 0px 1px 3px 1px rgba(60, 64, 67, 0.15);\n",
       "      fill: #174EA6;\n",
       "    }\n",
       "\n",
       "    [theme=dark] .colab-df-convert {\n",
       "      background-color: #3B4455;\n",
       "      fill: #D2E3FC;\n",
       "    }\n",
       "\n",
       "    [theme=dark] .colab-df-convert:hover {\n",
       "      background-color: #434B5C;\n",
       "      box-shadow: 0px 1px 3px 1px rgba(0, 0, 0, 0.15);\n",
       "      filter: drop-shadow(0px 1px 2px rgba(0, 0, 0, 0.3));\n",
       "      fill: #FFFFFF;\n",
       "    }\n",
       "  </style>\n",
       "\n",
       "      <script>\n",
       "        const buttonEl =\n",
       "          document.querySelector('#df-38e873bb-7014-40dc-983d-e1a392008f1f button.colab-df-convert');\n",
       "        buttonEl.style.display =\n",
       "          google.colab.kernel.accessAllowed ? 'block' : 'none';\n",
       "\n",
       "        async function convertToInteractive(key) {\n",
       "          const element = document.querySelector('#df-38e873bb-7014-40dc-983d-e1a392008f1f');\n",
       "          const dataTable =\n",
       "            await google.colab.kernel.invokeFunction('convertToInteractive',\n",
       "                                                     [key], {});\n",
       "          if (!dataTable) return;\n",
       "\n",
       "          const docLinkHtml = 'Like what you see? Visit the ' +\n",
       "            '<a target=\"_blank\" href=https://colab.research.google.com/notebooks/data_table.ipynb>data table notebook</a>'\n",
       "            + ' to learn more about interactive tables.';\n",
       "          element.innerHTML = '';\n",
       "          dataTable['output_type'] = 'display_data';\n",
       "          await google.colab.output.renderOutput(dataTable, element);\n",
       "          const docLink = document.createElement('div');\n",
       "          docLink.innerHTML = docLinkHtml;\n",
       "          element.appendChild(docLink);\n",
       "        }\n",
       "      </script>\n",
       "    </div>\n",
       "  </div>\n",
       "  "
      ],
      "text/plain": [
       "                                                   Text\n",
       "0     “Bishops are quick learners,” he wrote in his ...\n",
       "1     “I have done what I believe God wanted me to d...\n",
       "2     Ebola is one of the world's most notorious dis...\n",
       "3     Paul Hunter, a professor of health protection ...\n",
       "4     And whoso falleth not down and worshippeth sha...\n",
       "...                                                 ...\n",
       "1417  The document makes it inarguable that the fede...\n",
       "1418  When the Russians retaliated, the Trump admini...\n",
       "1419  Trumpism is not a detour, after which we can a...\n",
       "1420  Other theories behind the health issues in Cub...\n",
       "1421  Since teachers are not allowed to arm themselv...\n",
       "\n",
       "[1422 rows x 1 columns]"
      ]
     },
     "execution_count": 9,
     "metadata": {},
     "output_type": "execute_result"
    }
   ],
   "source": [
    "X_under"
   ]
  },
  {
   "cell_type": "markdown",
   "id": "40e84450-3329-47b2-8d7f-c5d5a696f24c",
   "metadata": {
    "id": "40e84450-3329-47b2-8d7f-c5d5a696f24c"
   },
   "source": [
    "Post undersampling class frequency control:"
   ]
  },
  {
   "cell_type": "code",
   "execution_count": 10,
   "id": "d421b6d8-26d0-4682-b84a-a0df03ba9932",
   "metadata": {
    "colab": {
     "base_uri": "https://localhost:8080/"
    },
    "id": "d421b6d8-26d0-4682-b84a-a0df03ba9932",
    "outputId": "98d81587-0154-46ef-cb8a-0679bc68810b"
   },
   "outputs": [
    {
     "name": "stdout",
     "output_type": "stream",
     "text": [
      "Counter({'Loaded_Language': 350, 'Name_Calling-Labeling': 318, 'Repetition': 218, 'Doubt': 210, 'Appeal_to_Fear-Prejudice': 122, 'Exaggeration-Minimisation': 102, 'Flag_Waving': 102})\n"
     ]
    }
   ],
   "source": [
    "print(Counter(y_under))"
   ]
  },
  {
   "cell_type": "code",
   "execution_count": 11,
   "id": "73f253a3-3b21-4b8c-b47d-bf776b185387",
   "metadata": {
    "id": "73f253a3-3b21-4b8c-b47d-bf776b185387"
   },
   "outputs": [],
   "source": [
    "#set splitting in train set and test set (70% and 30%)\n",
    "X_train, X_test, y_train, y_test = train_test_split(X_under,y_under,stratify=y_under,test_size=0.3, random_state=100)"
   ]
  },
  {
   "cell_type": "markdown",
   "id": "96f2dc48-89d5-4cc7-88dd-2f9188be68b2",
   "metadata": {
    "id": "96f2dc48-89d5-4cc7-88dd-2f9188be68b2"
   },
   "source": [
    "We save both the paragraphs textual content of the train and test and their lables in lists."
   ]
  },
  {
   "cell_type": "code",
   "execution_count": 12,
   "id": "b04fae51-a889-49f8-91c4-4f0f0b2e24d9",
   "metadata": {
    "id": "b04fae51-a889-49f8-91c4-4f0f0b2e24d9"
   },
   "outputs": [],
   "source": [
    "X_train_lista = list()\n",
    "for x in X_train['Text']:\n",
    "    X_train_lista.append(str(x))\n",
    "    \n",
    "y_train_lista = list()\n",
    "for i in y_train:\n",
    "    y_train_lista.append(str(i))\n",
    "\n",
    "X_test_lista = list()\n",
    "for x in X_test['Text']:\n",
    "    X_test_lista.append(str(x))\n",
    "    \n",
    "y_test_lista = list()\n",
    "for i in y_test:\n",
    "    y_test_lista.append(str(i))"
   ]
  },
  {
   "cell_type": "markdown",
   "id": "ad4031c3-cdf3-4cb1-abf8-3fc08ff2e295",
   "metadata": {
    "id": "ad4031c3-cdf3-4cb1-abf8-3fc08ff2e295"
   },
   "source": [
    "Example of access to a  train set paragraph and its label in position 10:"
   ]
  },
  {
   "cell_type": "code",
   "execution_count": 13,
   "id": "cdfe7d3b-df5a-4c00-aa5a-e2ecf5fcc17c",
   "metadata": {
    "colab": {
     "base_uri": "https://localhost:8080/",
     "height": 53
    },
    "id": "cdfe7d3b-df5a-4c00-aa5a-e2ecf5fcc17c",
    "outputId": "ec0778f4-e1f1-4bf8-c5b4-0171cdd40eb9"
   },
   "outputs": [
    {
     "data": {
      "application/vnd.google.colaboratory.intrinsic+json": {
       "type": "string"
      },
      "text/plain": [
       "'Orban said on Sunday that Europe faces a critical fissure between nation states of the East and the West, which he called an \"immigrant zone, a mixed population world that heads in a direction different from ours\".'"
      ]
     },
     "execution_count": 13,
     "metadata": {},
     "output_type": "execute_result"
    }
   ],
   "source": [
    "X_train_lista[10]"
   ]
  },
  {
   "cell_type": "code",
   "execution_count": 14,
   "id": "7a9dfc37-c9c3-4dc8-8378-68fc357a992d",
   "metadata": {
    "colab": {
     "base_uri": "https://localhost:8080/",
     "height": 36
    },
    "id": "7a9dfc37-c9c3-4dc8-8378-68fc357a992d",
    "outputId": "344966e2-6790-4a3b-be44-165fa944c9e7"
   },
   "outputs": [
    {
     "data": {
      "application/vnd.google.colaboratory.intrinsic+json": {
       "type": "string"
      },
      "text/plain": [
       "'Flag_Waving'"
      ]
     },
     "execution_count": 14,
     "metadata": {},
     "output_type": "execute_result"
    }
   ],
   "source": [
    "y_train_lista[10]"
   ]
  },
  {
   "cell_type": "markdown",
   "id": "73af280e-7c1e-4ccc-95be-23094c297a2d",
   "metadata": {
    "id": "73af280e-7c1e-4ccc-95be-23094c297a2d"
   },
   "source": [
    "We carry out a mapping of the labels and create an array containing the labels for each paragraph of the train and test set."
   ]
  },
  {
   "cell_type": "code",
   "execution_count": 15,
   "id": "862828cc-b5a1-4573-9ea5-36c91be3aaf9",
   "metadata": {
    "colab": {
     "base_uri": "https://localhost:8080/"
    },
    "id": "862828cc-b5a1-4573-9ea5-36c91be3aaf9",
    "outputId": "8b46045a-70aa-489d-eee9-04ad847c702d"
   },
   "outputs": [
    {
     "name": "stdout",
     "output_type": "stream",
     "text": [
      "{'Appeal_to_Fear-Prejudice': 0, 'Doubt': 1, 'Exaggeration-Minimisation': 2, 'Flag_Waving': 3, 'Loaded_Language': 4, 'Name_Calling-Labeling': 5, 'Repetition': 6}\n"
     ]
    }
   ],
   "source": [
    "label_map = {label:idx for idx,label in enumerate(sorted(set(y_train)))}\n",
    "print(label_map)\n",
    "\n",
    "y_train_vect = np.asarray([label_map[label] for label in y_train_lista])\n",
    "y_test_vect = np.asarray([label_map[label] for label in y_test_lista])\n",
    "\n",
    "#y_train_vect,y_test_vect"
   ]
  },
  {
   "cell_type": "markdown",
   "id": "66224cdc-b6a6-4e95-8104-3369b32ac362",
   "metadata": {
    "id": "66224cdc-b6a6-4e95-8104-3369b32ac362"
   },
   "source": [
    "Begin formatting paragraphs as necessary to be interpreted by BERT:"
   ]
  },
  {
   "cell_type": "code",
   "execution_count": 16,
   "id": "ca0a07a9-d848-41a4-8f41-9e927c74bb28",
   "metadata": {
    "id": "ca0a07a9-d848-41a4-8f41-9e927c74bb28"
   },
   "outputs": [],
   "source": [
    "# adding [CLS] token to the beginning of each textual paragraph\n",
    "sentences_train = [\"[CLS] \" + s for s in X_train_lista]\n",
    "sentences_test = [\"[CLS] \" + s for s in X_test_lista]\n",
    "labels_train = y_train_vect\n",
    "labels_test  = y_test_vect"
   ]
  },
  {
   "cell_type": "code",
   "execution_count": 17,
   "id": "ecf7a59c-ece1-4dd8-9270-ad443cac3442",
   "metadata": {
    "colab": {
     "base_uri": "https://localhost:8080/",
     "height": 165,
     "referenced_widgets": [
      "32fedf0cb5294bbd81a786d32c80823d",
      "d3308fb06e774fb7b8e892a19ea62264",
      "a852f6cf7d04404bb5e886c0b34b77df",
      "b1cc875ba5af45aaaed74df884e0d9cb",
      "d1aaeb253e7a4462ba3e9454cc701362",
      "66928149b0024e74ae4aa9bcccd862f1",
      "d33e8171c51c49cab0127006706c3ea2",
      "b07e3fda91b24edc8ec7c5174cbd3f72",
      "c70720fcf4d94ec7aba130ff88e32b9e",
      "ad9b9354e4554b57a2766af450610ae1",
      "b0bec2a488354d9b9bcacb035c471119",
      "13b067cc15d348fdbe6e5e057000d746",
      "f26bb85ec3c44508b320ce746daf5534",
      "dfcd677a802a492e85d26cb2211c161a",
      "fee5488bbf654d26a796399e31e8f62f",
      "a099cac7758b4009bbd2b1cd0e8e055d",
      "ccb3bae5395440909285dcec5c52e228",
      "0e117e91d5834e14bfcf05e7a257f42b",
      "52cf4d5e81b34dc4b36ec76ea6272df8",
      "a23ce91451024804953294ad5c0e37ed",
      "35470cb2227940459210e00271b3d798",
      "064189f9354f492f82805367263ed763",
      "dfbf2fee6c414255a1300e76f3302c98",
      "c920f2d10c7e4752948d8df36d91eebc",
      "a5951dc9201045f2949f9d96ed9f2fd0",
      "a7e517275c744bb3a655b509e3d4d943",
      "92c04433d8204296acacd3573abab4ba",
      "85978739e37040ba982aa4ae6488fd26",
      "e2ba70453aae4ad4ae6a440c3cd1255f",
      "e3b9b9978fd24f4a8a3f60dc4e5d6245",
      "f874009e78ca459aa42080c8adedd893",
      "ccbe03f50fbc406598a6a901f0f1c7aa",
      "0831b67d7db844189e21244910b1fbcf"
     ]
    },
    "id": "ecf7a59c-ece1-4dd8-9270-ad443cac3442",
    "outputId": "e1acbc63-9f0d-4a86-e54e-db84f51cbe38"
   },
   "outputs": [
    {
     "data": {
      "application/vnd.jupyter.widget-view+json": {
       "model_id": "32fedf0cb5294bbd81a786d32c80823d",
       "version_major": 2,
       "version_minor": 0
      },
      "text/plain": [
       "Downloading (…)solve/main/vocab.txt:   0%|          | 0.00/232k [00:00<?, ?B/s]"
      ]
     },
     "metadata": {},
     "output_type": "display_data"
    },
    {
     "data": {
      "application/vnd.jupyter.widget-view+json": {
       "model_id": "13b067cc15d348fdbe6e5e057000d746",
       "version_major": 2,
       "version_minor": 0
      },
      "text/plain": [
       "Downloading (…)okenizer_config.json:   0%|          | 0.00/28.0 [00:00<?, ?B/s]"
      ]
     },
     "metadata": {},
     "output_type": "display_data"
    },
    {
     "data": {
      "application/vnd.jupyter.widget-view+json": {
       "model_id": "dfbf2fee6c414255a1300e76f3302c98",
       "version_major": 2,
       "version_minor": 0
      },
      "text/plain": [
       "Downloading (…)lve/main/config.json:   0%|          | 0.00/570 [00:00<?, ?B/s]"
      ]
     },
     "metadata": {},
     "output_type": "display_data"
    },
    {
     "data": {
      "text/plain": [
       "BertTokenizer(name_or_path='bert-base-uncased', vocab_size=30522, model_max_length=512, is_fast=False, padding_side='right', truncation_side='right', special_tokens={'unk_token': '[UNK]', 'sep_token': '[SEP]', 'pad_token': '[PAD]', 'cls_token': '[CLS]', 'mask_token': '[MASK]'})"
      ]
     },
     "execution_count": 17,
     "metadata": {},
     "output_type": "execute_result"
    }
   ],
   "source": [
    "#loading the BERT model and classifier\n",
    "BERTMODEL = \"bert-base-uncased\"\n",
    "\n",
    "tokenizer = BertTokenizer.from_pretrained(BERTMODEL,\n",
    "                                          do_lower_case=True)\n",
    "tokenizer"
   ]
  },
  {
   "cell_type": "code",
   "execution_count": 18,
   "id": "0854bfd2-5eae-4abe-a52f-e3fa539bd959",
   "metadata": {
    "colab": {
     "base_uri": "https://localhost:8080/"
    },
    "id": "0854bfd2-5eae-4abe-a52f-e3fa539bd959",
    "outputId": "c48d4465-b426-4cdd-8782-ca0359246d42"
   },
   "outputs": [
    {
     "name": "stderr",
     "output_type": "stream",
     "text": [
      "100%|██████████| 995/995 [00:01<00:00, 830.18it/s]\n",
      "100%|██████████| 427/427 [00:00<00:00, 842.56it/s]\n"
     ]
    }
   ],
   "source": [
    "#apply bert tokenizer to the previous textual paragraphs where the token was added\n",
    "tokenized_train = [tokenizer.tokenize(s) for s in tqdm(sentences_train)]\n",
    "tokenized_test  = [tokenizer.tokenize(s) for s in tqdm(sentences_test)]"
   ]
  },
  {
   "cell_type": "raw",
   "id": "dbd70b5a-1818-47fa-bf6b-2c88198dc7f7",
   "metadata": {
    "id": "dbd70b5a-1818-47fa-bf6b-2c88198dc7f7",
    "outputId": "3d13ee55-45f2-4722-fc2a-3eb497a52e19"
   },
   "source": [
    "# run the cell in Code mode to see the tokenization result on the first train set paragraph\n",
    "print (\"The full tokenized first training sentence:\")\n",
    "print (tokenized_train[0])"
   ]
  },
  {
   "cell_type": "code",
   "execution_count": 19,
   "id": "49eb917b-0d50-4c55-9f70-0cae8dc3a6b5",
   "metadata": {
    "id": "49eb917b-0d50-4c55-9f70-0cae8dc3a6b5"
   },
   "outputs": [],
   "source": [
    "# truncate the dimensions of the individual paragraphs so that they respect the limits of the bert-base-uncased model\n",
    "MAX_LEN_TRAIN, MAX_LEN_TEST = 128, 512\n",
    "\n",
    "tokenized_train = [t[:(MAX_LEN_TRAIN-1)]+['SEP'] for t in tokenized_train]\n",
    "tokenized_test  = [t[:(MAX_LEN_TEST-1)]+['SEP'] for t in tokenized_test]"
   ]
  },
  {
   "cell_type": "raw",
   "id": "35d05c07-7d11-4153-907c-e30ad17e5ad6",
   "metadata": {
    "id": "35d05c07-7d11-4153-907c-e30ad17e5ad6"
   },
   "source": [
    "# run the cell in Code mode to see the truncation result on the first train set tokenized paragraph\n",
    "print (\"The truncated tokenized first training sentence:\")\n",
    "print (tokenized_train[0])"
   ]
  },
  {
   "cell_type": "code",
   "execution_count": 20,
   "id": "15f6ee63-ccbe-4637-8e71-13024a995da1",
   "metadata": {
    "id": "15f6ee63-ccbe-4637-8e71-13024a995da1"
   },
   "outputs": [],
   "source": [
    "# convert the tokens present in the individual paragraphs into ids and perform a pad by adding zeros so that the length of the individual paragraphs is homogeneous\n",
    "ids_train = [tokenizer.convert_tokens_to_ids(t) for t in tokenized_train]\n",
    "ids_train = np.array([np.pad(i, (0, MAX_LEN_TRAIN-len(i)),\n",
    "                             mode='constant') for i in ids_train])\n",
    "\n",
    "ids_test = [tokenizer.convert_tokens_to_ids(t) for t in tokenized_test]\n",
    "ids_test = np.array([np.pad(i, (0, MAX_LEN_TEST-len(i)),\n",
    "                            mode='constant') for i in ids_test])"
   ]
  },
  {
   "cell_type": "raw",
   "id": "bdf89aa6-2fcb-49a3-bc5b-225e611f1a2a",
   "metadata": {
    "id": "bdf89aa6-2fcb-49a3-bc5b-225e611f1a2a"
   },
   "source": [
    "# run the cell in Code mode to see the indices of the first training sentence\n",
    "print (\"The truncated tokenized first training sentence:\")\n",
    "print (tokenized_train[0])"
   ]
  },
  {
   "cell_type": "code",
   "execution_count": null,
   "id": "8d463831-35f1-4174-a509-8a47ae722962",
   "metadata": {
    "id": "8d463831-35f1-4174-a509-8a47ae722962"
   },
   "outputs": [],
   "source": [
    "# create attention masks for both train and test set, with 1 for each real token in the sequences and 0 for the padding\n",
    "amasks_train, amasks_test = [], []\n",
    "\n",
    "for seq in ids_train:\n",
    "    seq_mask = [float(i>0) for i in seq]\n",
    "    amasks_train.append(seq_mask)\n",
    "\n",
    "for seq in ids_test:\n",
    "    seq_mask = [float(i>0) for i in seq]\n",
    "    amasks_test.append(seq_mask)"
   ]
  },
  {
   "cell_type": "markdown",
   "id": "u84fE9_Kkduu",
   "metadata": {
    "id": "u84fE9_Kkduu"
   },
   "source": [
    "Splitting the entire dataset into training and validation datasets using 90/10 ratio and employ random_state to make sure that all input data are correctly ordered. "
   ]
  },
  {
   "cell_type": "code",
   "execution_count": null,
   "id": "TjVGQ8BOkh_H",
   "metadata": {
    "id": "TjVGQ8BOkh_H"
   },
   "outputs": [],
   "source": [
    "(train_inputs, validation_inputs,\n",
    " train_labels, validation_labels) = train_test_split(ids_train, labels_train,\n",
    "                                                     random_state=42,\n",
    "                                                     test_size=0.1)\n",
    "(train_masks, validation_masks,\n",
    " _, _) = train_test_split(amasks_train, ids_train,\n",
    "                          random_state=42, test_size=0.1)"
   ]
  },
  {
   "cell_type": "markdown",
   "id": "0KErp63CkqVH",
   "metadata": {
    "id": "0KErp63CkqVH"
   },
   "source": [
    "Converting each input data format from list to torch tensor (both for validation, train and test set)."
   ]
  },
  {
   "cell_type": "code",
   "execution_count": null,
   "id": "10a6110f-9b67-4c73-a4fb-a23e8b4f78d5",
   "metadata": {
    "id": "10a6110f-9b67-4c73-a4fb-a23e8b4f78d5"
   },
   "outputs": [],
   "source": [
    "train_inputs = torch.tensor(train_inputs)\n",
    "train_labels = torch.tensor(train_labels)\n",
    "train_masks  = torch.tensor(train_masks)\n",
    "validation_inputs = torch.tensor(validation_inputs)\n",
    "validation_labels = torch.tensor(validation_labels)\n",
    "validation_masks  = torch.tensor(validation_masks)\n",
    "test_inputs = torch.tensor(ids_test)\n",
    "test_labels = torch.tensor(labels_test)\n",
    "test_masks  = torch.tensor(amasks_test)"
   ]
  },
  {
   "cell_type": "markdown",
   "id": "f1a88925-258d-404d-850a-ced6e29e05d9",
   "metadata": {
    "id": "f1a88925-258d-404d-850a-ced6e29e05d9"
   },
   "source": [
    "### Hyperparameters choice"
   ]
  },
  {
   "cell_type": "markdown",
   "id": "60Ui0ClJk5sP",
   "metadata": {
    "id": "60Ui0ClJk5sP"
   },
   "source": [
    "Different possible value for each parameter were considered and tried in different combination:\n",
    "- batch sizes: 8, 16, 32, 64;\n",
    "- learning rates: 3e-4, 5e-5, 3e-5;\n",
    "- weight decay: 0.1, 0.01, 0.001;\n",
    "- eps_set: 1e-7, 1e-8;\n",
    "- epochs: 4, 5, 6, 7, 10;\n",
    "\n",
    "The best combination in terms of performances resulted to be the following one:"
   ]
  },
  {
   "cell_type": "code",
   "execution_count": null,
   "id": "veeFRXK7k31_",
   "metadata": {
    "id": "veeFRXK7k31_"
   },
   "outputs": [],
   "source": [
    "BATCH_SIZE = 8\n",
    "WEIGHT_DECAY1 = 0.01\n",
    "LR = 5e-5\n",
    "EPOCHS = 5\n",
    "eps_set = 1e-8\n",
    "no_decay = ['bias', 'LayerNorm.weight','gamma', 'beta']"
   ]
  },
  {
   "cell_type": "markdown",
   "id": "rC9NLNjrmUH2",
   "metadata": {
    "id": "rC9NLNjrmUH2"
   },
   "source": [
    "We combine relevant tensors into a tensor dataset for each sub-data set and load tensor datasets into dataloaders."
   ]
  },
  {
   "cell_type": "code",
   "execution_count": null,
   "id": "70352d0b-e697-4186-93ec-3f26eb4af670",
   "metadata": {
    "colab": {
     "base_uri": "https://localhost:8080/"
    },
    "id": "70352d0b-e697-4186-93ec-3f26eb4af670",
    "outputId": "f2e4db65-4043-4b6b-a0b6-ff6b5fe42341"
   },
   "outputs": [
    {
     "name": "stdout",
     "output_type": "stream",
     "text": [
      "Datasets:\n",
      "Train: 895 documents\n",
      "Validation: 100 documents\n",
      "Test: 427 documents\n"
     ]
    }
   ],
   "source": [
    "print('Datasets:')\n",
    "print('Train: ', end=\"\")\n",
    "train_data = TensorDataset(train_inputs, train_masks,\n",
    "                           train_labels.type(torch.LongTensor))\n",
    "train_sampler = RandomSampler(train_data)\n",
    "train_dataloader = DataLoader(train_data, sampler=train_sampler,\n",
    "                              batch_size=BATCH_SIZE)\n",
    "print(len(train_data), 'documents')\n",
    "\n",
    "print('Validation: ', end=\"\")\n",
    "validation_data = TensorDataset(validation_inputs, validation_masks,\n",
    "                                validation_labels.type(torch.LongTensor))\n",
    "validation_sampler = SequentialSampler(validation_data)\n",
    "validation_dataloader = DataLoader(validation_data,\n",
    "                                   sampler=validation_sampler,\n",
    "                                   batch_size=BATCH_SIZE)\n",
    "print(len(validation_data), 'documents')\n",
    "\n",
    "print('Test: ', end=\"\")\n",
    "test_data = TensorDataset(test_inputs, test_masks, test_labels.type(torch.LongTensor))\n",
    "test_sampler = SequentialSampler(test_data)\n",
    "test_dataloader = DataLoader(test_data, sampler=test_sampler,\n",
    "                             batch_size=BATCH_SIZE)\n",
    "print(len(test_data), 'documents')"
   ]
  },
  {
   "cell_type": "markdown",
   "id": "d-IsaRMmmqh8",
   "metadata": {
    "id": "d-IsaRMmmqh8"
   },
   "source": [
    "We use a pre-trained model for sequence classification and set the model to use GPU in order to parallelize calculation."
   ]
  },
  {
   "cell_type": "code",
   "execution_count": null,
   "id": "bc4ea2d8-aa7f-4fcf-a565-5d46b8a2c4ae",
   "metadata": {
    "colab": {
     "base_uri": "https://localhost:8080/"
    },
    "id": "bc4ea2d8-aa7f-4fcf-a565-5d46b8a2c4ae",
    "outputId": "1e07f50b-8df2-480d-fdfc-787ae70b285c"
   },
   "outputs": [
    {
     "name": "stderr",
     "output_type": "stream",
     "text": [
      "Some weights of the model checkpoint at bert-base-uncased were not used when initializing BertForSequenceClassification: ['cls.predictions.transform.LayerNorm.weight', 'cls.predictions.transform.LayerNorm.bias', 'cls.predictions.transform.dense.bias', 'cls.predictions.decoder.weight', 'cls.seq_relationship.weight', 'cls.seq_relationship.bias', 'cls.predictions.transform.dense.weight', 'cls.predictions.bias']\n",
      "- This IS expected if you are initializing BertForSequenceClassification from the checkpoint of a model trained on another task or with another architecture (e.g. initializing a BertForSequenceClassification model from a BertForPreTraining model).\n",
      "- This IS NOT expected if you are initializing BertForSequenceClassification from the checkpoint of a model that you expect to be exactly identical (initializing a BertForSequenceClassification model from a BertForSequenceClassification model).\n",
      "Some weights of BertForSequenceClassification were not initialized from the model checkpoint at bert-base-uncased and are newly initialized: ['classifier.weight', 'classifier.bias']\n",
      "You should probably TRAIN this model on a down-stream task to be able to use it for predictions and inference.\n"
     ]
    },
    {
     "name": "stdout",
     "output_type": "stream",
     "text": [
      "Pretrained BERT model \"bert-base-uncased\" loaded\n"
     ]
    }
   ],
   "source": [
    "model = BertForSequenceClassification.from_pretrained(BERTMODEL,\n",
    "                                                      num_labels=len(label_map))\n",
    "model.cuda()\n",
    "print('Pretrained BERT model \"{}\" loaded'.format(BERTMODEL))"
   ]
  },
  {
   "cell_type": "raw",
   "id": "71f40b63-a8bc-4eba-bbd7-c83495e0df5b",
   "metadata": {
    "id": "71f40b63-a8bc-4eba-bbd7-c83495e0df5b"
   },
   "source": [
    "# execute this cell in Code mode in order to see the model structure and\n",
    "print(model)"
   ]
  },
  {
   "cell_type": "markdown",
   "id": "N5Cq6PZdpgmU",
   "metadata": {
    "id": "N5Cq6PZdpgmU"
   },
   "source": [
    "After separating weight parameters from bias, gamma, LayerNorm.weight and beta parameters we filter one group without these values and another with them. \n",
    "\n",
    "We set up optimizer and scheduler needed for learning with default settings."
   ]
  },
  {
   "cell_type": "code",
   "execution_count": null,
   "id": "125c6acf-f0e6-41b7-8d59-aec886dfe84c",
   "metadata": {
    "id": "125c6acf-f0e6-41b7-8d59-aec886dfe84c"
   },
   "outputs": [],
   "source": [
    "WARMUP_STEPS =int(0.2*len(train_dataloader))\n",
    "optimizer_grouped_parameters = [\n",
    "    {'params': [p for n, p in model.named_parameters()\n",
    "                if not any(nd in n for nd in no_decay)],\n",
    "     'weight_decay': WEIGHT_DECAY1},\n",
    "    {'params': [p for n, p in model.named_parameters()\n",
    "                if any(nd in n for nd in no_decay)],\n",
    "     'weight_decay': 0.0}\n",
    "]\n",
    "optimizer = AdamW(optimizer_grouped_parameters, lr=LR, eps=eps_set)\n",
    "scheduler = get_linear_schedule_with_warmup(optimizer, num_warmup_steps=WARMUP_STEPS,\n",
    "                                 num_training_steps =len(train_dataloader)*EPOCHS)"
   ]
  },
  {
   "cell_type": "code",
   "execution_count": null,
   "id": "6Lp17fMFBZKA",
   "metadata": {
    "id": "6Lp17fMFBZKA"
   },
   "outputs": [],
   "source": [
    "#definition of the trainer and evaluer \n",
    "\n",
    "def train(epoch, loss_vector=None, log_interval=200):\n",
    "  # Set model to training mode\n",
    "  model.train()\n",
    "\n",
    "  # Loop over each batch from the training set\n",
    "  for step, batch in enumerate(train_dataloader):\n",
    "\n",
    "    # Copy data to GPU if needed\n",
    "    batch = tuple(t.to(device) for t in batch)\n",
    "\n",
    "    # Unpack the inputs from our dataloader\n",
    "    b_input_ids, b_input_mask, b_labels = batch\n",
    "\n",
    "    # Zero gradient buffers\n",
    "    optimizer.zero_grad()\n",
    "\n",
    "    # Forward pass\n",
    "    outputs = model(b_input_ids, token_type_ids=None,\n",
    "                    attention_mask=b_input_mask, labels=b_labels)\n",
    "\n",
    "    loss = outputs[0]\n",
    "    if loss_vector is not None:\n",
    "        loss_vector.append(loss.item())\n",
    "\n",
    "    # Backward pass\n",
    "    loss.backward()\n",
    "\n",
    "    # Update weights\n",
    "    optimizer.step()\n",
    "    scheduler.step()\n",
    "\n",
    "    if step % log_interval == 0:\n",
    "        print('Train Epoch: {} [{}/{} ({:.0f}%)]\\tLoss: {:.6f}'.format(\n",
    "                epoch, step * len(b_input_ids),\n",
    "                len(train_dataloader.dataset),\n",
    "                100. * step / len(train_dataloader), loss))\n",
    "\n",
    "\n",
    "\n",
    "def evaluate(loader):\n",
    "    \n",
    "    model.eval()\n",
    "    # Tracking variables\n",
    "    n_correct, n_all = 0, 0\n",
    "\n",
    "    predicted_labels = list()\n",
    "    true_labels = list()\n",
    "    # Predict \n",
    "    for batch in loader:\n",
    "        # Add batch to GPU\n",
    "        batch = tuple(t.to(device) for t in batch)\n",
    "        # Unpack the inputs from our dataloader\n",
    "        b_input_ids, b_input_mask, b_labels = batch\n",
    "        # Telling the model not to compute or store gradients, saving memory and speeding up prediction\n",
    "        with torch.no_grad():\n",
    "            # Forward pass, calculate logit predictions\n",
    "            outputs = model(b_input_ids, token_type_ids=None,\n",
    "                          attention_mask=b_input_mask)\n",
    "            logits = outputs[0]\n",
    "        # Move logits and labels to CPU\n",
    "        logits = logits.detach().cpu().numpy()\n",
    "        predictions = np.argmax(logits, axis=1)\n",
    "        # Store predictions and true labels\n",
    "        labels = b_labels.to('cpu').numpy()\n",
    "        n_correct += np.sum(predictions == labels)\n",
    "\n",
    "        true_labels.extend(labels)\n",
    "        predicted_labels.extend(predictions)\n",
    "        n_all += len(labels)\n",
    "\n",
    "    print('Accuracy: [{}/{}] {:.4f}'.format(n_correct, n_all,\n",
    "                                          n_correct/n_all))\n",
    "    print('Classification report:')\n",
    "    print(classification_report(true_labels, predicted_labels,target_names=[x[0] for x in sorted(label_map.items(),key=lambda x:x[1])]))\n",
    "    print('Confusion matrix:')\n",
    "    cm = confusion_matrix(true_labels, predicted_labels)\n",
    "    print(cm)"
   ]
  },
  {
   "cell_type": "markdown",
   "id": "5f474042-2409-4660-881c-fd9609868df2",
   "metadata": {
    "id": "5f474042-2409-4660-881c-fd9609868df2"
   },
   "source": [
    "Training the model on the training set and evaluing it trough the validation set in order to choose the best parameter setting."
   ]
  },
  {
   "cell_type": "code",
   "execution_count": null,
   "id": "2b0543cc-676e-4727-b602-3095c0553b8a",
   "metadata": {
    "colab": {
     "base_uri": "https://localhost:8080/"
    },
    "id": "2b0543cc-676e-4727-b602-3095c0553b8a",
    "outputId": "a190f5ad-af32-4dc3-d519-940bc974b8b8"
   },
   "outputs": [
    {
     "name": "stdout",
     "output_type": "stream",
     "text": [
      "\n",
      "Train Epoch: 1 [0/895 (0%)]\tLoss: 2.245162\n",
      "\n",
      "Validation set:\n",
      "Accuracy: [37/100] 0.3700\n",
      "Classification report:\n",
      "                           precision    recall  f1-score   support\n",
      "\n",
      " Appeal_to_Fear-Prejudice       1.00      0.17      0.29         6\n",
      "                    Doubt       0.30      0.43      0.35        14\n",
      "Exaggeration-Minimisation       0.00      0.00      0.00        11\n",
      "              Flag_Waving       0.00      0.00      0.00         6\n",
      "          Loaded_Language       0.40      0.64      0.49        28\n",
      "    Name_Calling-Labeling       0.35      0.50      0.41        24\n",
      "               Repetition       0.00      0.00      0.00        11\n",
      "\n",
      "                 accuracy                           0.37       100\n",
      "                macro avg       0.29      0.25      0.22       100\n",
      "             weighted avg       0.30      0.37      0.30       100\n",
      "\n",
      "Confusion matrix:\n",
      "[[ 1  0  0  0  2  3  0]\n",
      " [ 0  6  0  0  6  2  0]\n",
      " [ 0  3  0  0  4  4  0]\n",
      " [ 0  1  0  0  2  3  0]\n",
      " [ 0  3  0  0 18  7  0]\n",
      " [ 0  5  0  0  7 12  0]\n",
      " [ 0  2  0  0  6  3  0]]\n",
      "\n",
      "Train Epoch: 2 [0/895 (0%)]\tLoss: 1.753160\n",
      "\n",
      "Validation set:\n",
      "Accuracy: [48/100] 0.4800\n",
      "Classification report:\n",
      "                           precision    recall  f1-score   support\n",
      "\n",
      " Appeal_to_Fear-Prejudice       0.40      0.33      0.36         6\n",
      "                    Doubt       0.64      0.64      0.64        14\n",
      "Exaggeration-Minimisation       0.00      0.00      0.00        11\n",
      "              Flag_Waving       0.31      0.67      0.42         6\n",
      "          Loaded_Language       0.55      0.39      0.46        28\n",
      "    Name_Calling-Labeling       0.46      0.79      0.58        24\n",
      "               Repetition       0.43      0.27      0.33        11\n",
      "\n",
      "                 accuracy                           0.48       100\n",
      "                macro avg       0.40      0.44      0.40       100\n",
      "             weighted avg       0.44      0.48      0.44       100\n",
      "\n",
      "Confusion matrix:\n",
      "[[ 2  0  0  1  1  1  1]\n",
      " [ 0  9  0  2  2  0  1]\n",
      " [ 1  1  0  3  2  4  0]\n",
      " [ 0  0  0  4  0  2  0]\n",
      " [ 1  1  0  1 11 12  2]\n",
      " [ 1  2  0  0  2 19  0]\n",
      " [ 0  1  0  2  2  3  3]]\n",
      "\n",
      "Train Epoch: 3 [0/895 (0%)]\tLoss: 1.043253\n",
      "\n",
      "Validation set:\n",
      "Accuracy: [49/100] 0.4900\n",
      "Classification report:\n",
      "                           precision    recall  f1-score   support\n",
      "\n",
      " Appeal_to_Fear-Prejudice       0.17      0.17      0.17         6\n",
      "                    Doubt       0.60      0.43      0.50        14\n",
      "Exaggeration-Minimisation       0.67      0.18      0.29        11\n",
      "              Flag_Waving       0.33      0.33      0.33         6\n",
      "          Loaded_Language       0.43      0.79      0.56        28\n",
      "    Name_Calling-Labeling       0.88      0.62      0.73        24\n",
      "               Repetition       0.14      0.09      0.11        11\n",
      "\n",
      "                 accuracy                           0.49       100\n",
      "                macro avg       0.46      0.37      0.38       100\n",
      "             weighted avg       0.54      0.49      0.48       100\n",
      "\n",
      "Confusion matrix:\n",
      "[[ 1  1  0  0  4  0  0]\n",
      " [ 1  6  0  1  6  0  0]\n",
      " [ 2  0  2  2  5  0  0]\n",
      " [ 1  0  0  2  3  0  0]\n",
      " [ 0  1  1  0 22  1  3]\n",
      " [ 0  1  0  0  5 15  3]\n",
      " [ 1  1  0  1  6  1  1]]\n",
      "\n",
      "Train Epoch: 4 [0/895 (0%)]\tLoss: 0.861124\n",
      "\n",
      "Validation set:\n",
      "Accuracy: [56/100] 0.5600\n",
      "Classification report:\n",
      "                           precision    recall  f1-score   support\n",
      "\n",
      " Appeal_to_Fear-Prejudice       0.40      0.67      0.50         6\n",
      "                    Doubt       0.53      0.71      0.61        14\n",
      "Exaggeration-Minimisation       0.57      0.36      0.44        11\n",
      "              Flag_Waving       0.50      0.50      0.50         6\n",
      "          Loaded_Language       0.61      0.68      0.64        28\n",
      "    Name_Calling-Labeling       0.82      0.58      0.68        24\n",
      "               Repetition       0.20      0.18      0.19        11\n",
      "\n",
      "                 accuracy                           0.56       100\n",
      "                macro avg       0.52      0.53      0.51       100\n",
      "             weighted avg       0.58      0.56      0.56       100\n",
      "\n",
      "Confusion matrix:\n",
      "[[ 4  0  0  1  1  0  0]\n",
      " [ 2 10  0  0  1  0  1]\n",
      " [ 2  0  4  1  3  0  1]\n",
      " [ 0  1  1  3  1  0  0]\n",
      " [ 1  3  1  0 19  2  2]\n",
      " [ 1  3  0  0  2 14  4]\n",
      " [ 0  2  1  1  4  1  2]]\n",
      "\n",
      "Train Epoch: 5 [0/895 (0%)]\tLoss: 0.368066\n",
      "\n",
      "Validation set:\n",
      "Accuracy: [54/100] 0.5400\n",
      "Classification report:\n",
      "                           precision    recall  f1-score   support\n",
      "\n",
      " Appeal_to_Fear-Prejudice       0.36      0.67      0.47         6\n",
      "                    Doubt       0.67      0.57      0.62        14\n",
      "Exaggeration-Minimisation       0.60      0.27      0.37        11\n",
      "              Flag_Waving       0.36      0.67      0.47         6\n",
      "          Loaded_Language       0.59      0.71      0.65        28\n",
      "    Name_Calling-Labeling       0.86      0.50      0.63        24\n",
      "               Repetition       0.23      0.27      0.25        11\n",
      "\n",
      "                 accuracy                           0.54       100\n",
      "                macro avg       0.52      0.52      0.49       100\n",
      "             weighted avg       0.60      0.54      0.54       100\n",
      "\n",
      "Confusion matrix:\n",
      "[[ 4  0  0  1  1  0  0]\n",
      " [ 3  8  0  0  2  0  1]\n",
      " [ 2  0  3  2  3  0  1]\n",
      " [ 0  1  0  4  1  0  0]\n",
      " [ 1  1  1  1 20  1  3]\n",
      " [ 0  1  0  1  5 12  5]\n",
      " [ 1  1  1  2  2  1  3]]\n"
     ]
    }
   ],
   "source": [
    "train_lossv = []\n",
    "for epoch in range(1, EPOCHS + 1):\n",
    "    print()\n",
    "    train(epoch, train_lossv)\n",
    "    print('\\nValidation set:')\n",
    "    evaluate(validation_dataloader)   "
   ]
  },
  {
   "cell_type": "code",
   "execution_count": null,
   "id": "wDnOg0mZJqYM",
   "metadata": {
    "colab": {
     "base_uri": "https://localhost:8080/",
     "height": 518
    },
    "id": "wDnOg0mZJqYM",
    "outputId": "e4b84c54-3613-439a-f97b-f21508b466dd"
   },
   "outputs": [
    {
     "data": {
      "image/png": "[encoded data removed]",
      "text/plain": [
       "<Figure size 1080x576 with 1 Axes>"
      ]
     },
     "metadata": {
      "needs_background": "light"
     },
     "output_type": "display_data"
    }
   ],
   "source": [
    "%matplotlib inline\n",
    "plt.figure(figsize=(15,8))\n",
    "plt.title(\"Training loss\")\n",
    "plt.xlabel(\"Batch\")\n",
    "plt.ylabel(\"Loss\")\n",
    "plt.plot(train_lossv, label='train loss')\n",
    "plt.plot(np.convolve(train_lossv, np.ones(101), 'same') / 101,  label='averaged train loss')\n",
    "plt.legend(loc='best')\n",
    "plt.show()"
   ]
  },
  {
   "cell_type": "markdown",
   "id": "2ba3ae8b-6328-4f59-be5e-b48bfdf4e9fb",
   "metadata": {
    "id": "2ba3ae8b-6328-4f59-be5e-b48bfdf4e9fb"
   },
   "source": [
    "Plotting the training loss trough the increasing batch number considered in order to evaluate how much the various passes impact on the model learning.\n",
    "\n",
    "Finally, after implementing the shown and best tried parameter setting, the model was finally executed on the test set, resulting in the following performance:"
   ]
  },
  {
   "cell_type": "code",
   "execution_count": null,
   "id": "McQ5f-J7J39q",
   "metadata": {
    "colab": {
     "base_uri": "https://localhost:8080/"
    },
    "id": "McQ5f-J7J39q",
    "outputId": "d8225054-9f87-45e0-bef5-4160fe82a4e4"
   },
   "outputs": [
    {
     "name": "stdout",
     "output_type": "stream",
     "text": [
      "Test set:\n",
      "Accuracy: [220/427] 0.5152\n",
      "Classification report:\n",
      "                           precision    recall  f1-score   support\n",
      "\n",
      " Appeal_to_Fear-Prejudice       0.35      0.38      0.36        37\n",
      "                    Doubt       0.67      0.59      0.63        63\n",
      "Exaggeration-Minimisation       0.41      0.23      0.29        31\n",
      "              Flag_Waving       0.61      0.74      0.67        31\n",
      "          Loaded_Language       0.48      0.61      0.54       105\n",
      "    Name_Calling-Labeling       0.62      0.43      0.51        95\n",
      "               Repetition       0.43      0.52      0.47        65\n",
      "\n",
      "                 accuracy                           0.52       427\n",
      "                macro avg       0.51      0.50      0.50       427\n",
      "             weighted avg       0.53      0.52      0.51       427\n",
      "\n",
      "Confusion matrix:\n",
      "[[14  4  1  2  9  0  7]\n",
      " [ 4 37  1  0 11  2  8]\n",
      " [ 2  3  7  4  7  5  3]\n",
      " [ 0  1  1 23  1  0  5]\n",
      " [ 7  4  3  3 64 12 12]\n",
      " [ 9  5  1  2 27 41 10]\n",
      " [ 4  1  3  4 13  6 34]]\n"
     ]
    }
   ],
   "source": [
    "print('Test set:')\n",
    "evaluate(test_dataloader)"
   ]
  }
 ],
 "metadata": {
  "accelerator": "GPU",
  "colab": {
   "provenance": []
  },
  "gpuClass": "standard",
  "kernelspec": {
   "display_name": "Python 3 (ipykernel)",
   "language": "python",
   "name": "python3"
  },
  "language_info": {
   "codemirror_mode": {
    "name": "ipython",
    "version": 3
   },
   "file_extension": ".py",
   "mimetype": "text/x-python",
   "name": "python",
   "nbconvert_exporter": "python",
   "pygments_lexer": "ipython3",
   "version": "3.8.13"
  },
  "widgets": {
   "application/vnd.jupyter.widget-state+json": {
    "064189f9354f492f82805367263ed763": {
     "model_module": "@jupyter-widgets/controls",
     "model_module_version": "1.5.0",
     "model_name": "DescriptionStyleModel",
     "state": {
      "_model_module": "@jupyter-widgets/controls",
      "_model_module_version": "1.5.0",
      "_model_name": "DescriptionStyleModel",
      "_view_count": null,
      "_view_module": "@jupyter-widgets/base",
      "_view_module_version": "1.2.0",
      "_view_name": "StyleView",
      "description_width": ""
     }
    },
    "0831b67d7db844189e21244910b1fbcf": {
     "model_module": "@jupyter-widgets/controls",
     "model_module_version": "1.5.0",
     "model_name": "DescriptionStyleModel",
     "state": {
      "_model_module": "@jupyter-widgets/controls",
      "_model_module_version": "1.5.0",
      "_model_name": "DescriptionStyleModel",
      "_view_count": null,
      "_view_module": "@jupyter-widgets/base",
      "_view_module_version": "1.2.0",
      "_view_name": "StyleView",
      "description_width": ""
     }
    },
    "0e117e91d5834e14bfcf05e7a257f42b": {
     "model_module": "@jupyter-widgets/controls",
     "model_module_version": "1.5.0",
     "model_name": "DescriptionStyleModel",
     "state": {
      "_model_module": "@jupyter-widgets/controls",
      "_model_module_version": "1.5.0",
      "_model_name": "DescriptionStyleModel",
      "_view_count": null,
      "_view_module": "@jupyter-widgets/base",
      "_view_module_version": "1.2.0",
      "_view_name": "StyleView",
      "description_width": ""
     }
    },
    "13b067cc15d348fdbe6e5e057000d746": {
     "model_module": "@jupyter-widgets/controls",
     "model_module_version": "1.5.0",
     "model_name": "HBoxModel",
     "state": {
      "_dom_classes": [],
      "_model_module": "@jupyter-widgets/controls",
      "_model_module_version": "1.5.0",
      "_model_name": "HBoxModel",
      "_view_count": null,
      "_view_module": "@jupyter-widgets/controls",
      "_view_module_version": "1.5.0",
      "_view_name": "HBoxView",
      "box_style": "",
      "children": [
       "IPY_MODEL_f26bb85ec3c44508b320ce746daf5534",
       "IPY_MODEL_dfcd677a802a492e85d26cb2211c161a",
       "IPY_MODEL_fee5488bbf654d26a796399e31e8f62f"
      ],
      "layout": "IPY_MODEL_a099cac7758b4009bbd2b1cd0e8e055d"
     }
    },
    "32fedf0cb5294bbd81a786d32c80823d": {
     "model_module": "@jupyter-widgets/controls",
     "model_module_version": "1.5.0",
     "model_name": "HBoxModel",
     "state": {
      "_dom_classes": [],
      "_model_module": "@jupyter-widgets/controls",
      "_model_module_version": "1.5.0",
      "_model_name": "HBoxModel",
      "_view_count": null,
      "_view_module": "@jupyter-widgets/controls",
      "_view_module_version": "1.5.0",
      "_view_name": "HBoxView",
      "box_style": "",
      "children": [
       "IPY_MODEL_d3308fb06e774fb7b8e892a19ea62264",
       "IPY_MODEL_a852f6cf7d04404bb5e886c0b34b77df",
       "IPY_MODEL_b1cc875ba5af45aaaed74df884e0d9cb"
      ],
      "layout": "IPY_MODEL_d1aaeb253e7a4462ba3e9454cc701362"
     }
    },
    "35470cb2227940459210e00271b3d798": {
     "model_module": "@jupyter-widgets/base",
     "model_module_version": "1.2.0",
     "model_name": "LayoutModel",
     "state": {
      "_model_module": "@jupyter-widgets/base",
      "_model_module_version": "1.2.0",
      "_model_name": "LayoutModel",
      "_view_count": null,
      "_view_module": "@jupyter-widgets/base",
      "_view_module_version": "1.2.0",
      "_view_name": "LayoutView",
      "align_content": null,
      "align_items": null,
      "align_self": null,
      "border": null,
      "bottom": null,
      "display": null,
      "flex": null,
      "flex_flow": null,
      "grid_area": null,
      "grid_auto_columns": null,
      "grid_auto_flow": null,
      "grid_auto_rows": null,
      "grid_column": null,
      "grid_gap": null,
      "grid_row": null,
      "grid_template_areas": null,
      "grid_template_columns": null,
      "grid_template_rows": null,
      "height": null,
      "justify_content": null,
      "justify_items": null,
      "left": null,
      "margin": null,
      "max_height": null,
      "max_width": null,
      "min_height": null,
      "min_width": null,
      "object_fit": null,
      "object_position": null,
      "order": null,
      "overflow": null,
      "overflow_x": null,
      "overflow_y": null,
      "padding": null,
      "right": null,
      "top": null,
      "visibility": null,
      "width": null
     }
    },
    "52cf4d5e81b34dc4b36ec76ea6272df8": {
     "model_module": "@jupyter-widgets/base",
     "model_module_version": "1.2.0",
     "model_name": "LayoutModel",
     "state": {
      "_model_module": "@jupyter-widgets/base",
      "_model_module_version": "1.2.0",
      "_model_name": "LayoutModel",
      "_view_count": null,
      "_view_module": "@jupyter-widgets/base",
      "_view_module_version": "1.2.0",
      "_view_name": "LayoutView",
      "align_content": null,
      "align_items": null,
      "align_self": null,
      "border": null,
      "bottom": null,
      "display": null,
      "flex": null,
      "flex_flow": null,
      "grid_area": null,
      "grid_auto_columns": null,
      "grid_auto_flow": null,
      "grid_auto_rows": null,
      "grid_column": null,
      "grid_gap": null,
      "grid_row": null,
      "grid_template_areas": null,
      "grid_template_columns": null,
      "grid_template_rows": null,
      "height": null,
      "justify_content": null,
      "justify_items": null,
      "left": null,
      "margin": null,
      "max_height": null,
      "max_width": null,
      "min_height": null,
      "min_width": null,
      "object_fit": null,
      "object_position": null,
      "order": null,
      "overflow": null,
      "overflow_x": null,
      "overflow_y": null,
      "padding": null,
      "right": null,
      "top": null,
      "visibility": null,
      "width": null
     }
    },
    "66928149b0024e74ae4aa9bcccd862f1": {
     "model_module": "@jupyter-widgets/base",
     "model_module_version": "1.2.0",
     "model_name": "LayoutModel",
     "state": {
      "_model_module": "@jupyter-widgets/base",
      "_model_module_version": "1.2.0",
      "_model_name": "LayoutModel",
      "_view_count": null,
      "_view_module": "@jupyter-widgets/base",
      "_view_module_version": "1.2.0",
      "_view_name": "LayoutView",
      "align_content": null,
      "align_items": null,
      "align_self": null,
      "border": null,
      "bottom": null,
      "display": null,
      "flex": null,
      "flex_flow": null,
      "grid_area": null,
      "grid_auto_columns": null,
      "grid_auto_flow": null,
      "grid_auto_rows": null,
      "grid_column": null,
      "grid_gap": null,
      "grid_row": null,
      "grid_template_areas": null,
      "grid_template_columns": null,
      "grid_template_rows": null,
      "height": null,
      "justify_content": null,
      "justify_items": null,
      "left": null,
      "margin": null,
      "max_height": null,
      "max_width": null,
      "min_height": null,
      "min_width": null,
      "object_fit": null,
      "object_position": null,
      "order": null,
      "overflow": null,
      "overflow_x": null,
      "overflow_y": null,
      "padding": null,
      "right": null,
      "top": null,
      "visibility": null,
      "width": null
     }
    },
    "85978739e37040ba982aa4ae6488fd26": {
     "model_module": "@jupyter-widgets/base",
     "model_module_version": "1.2.0",
     "model_name": "LayoutModel",
     "state": {
      "_model_module": "@jupyter-widgets/base",
      "_model_module_version": "1.2.0",
      "_model_name": "LayoutModel",
      "_view_count": null,
      "_view_module": "@jupyter-widgets/base",
      "_view_module_version": "1.2.0",
      "_view_name": "LayoutView",
      "align_content": null,
      "align_items": null,
      "align_self": null,
      "border": null,
      "bottom": null,
      "display": null,
      "flex": null,
      "flex_flow": null,
      "grid_area": null,
      "grid_auto_columns": null,
      "grid_auto_flow": null,
      "grid_auto_rows": null,
      "grid_column": null,
      "grid_gap": null,
      "grid_row": null,
      "grid_template_areas": null,
      "grid_template_columns": null,
      "grid_template_rows": null,
      "height": null,
      "justify_content": null,
      "justify_items": null,
      "left": null,
      "margin": null,
      "max_height": null,
      "max_width": null,
      "min_height": null,
      "min_width": null,
      "object_fit": null,
      "object_position": null,
      "order": null,
      "overflow": null,
      "overflow_x": null,
      "overflow_y": null,
      "padding": null,
      "right": null,
      "top": null,
      "visibility": null,
      "width": null
     }
    },
    "92c04433d8204296acacd3573abab4ba": {
     "model_module": "@jupyter-widgets/base",
     "model_module_version": "1.2.0",
     "model_name": "LayoutModel",
     "state": {
      "_model_module": "@jupyter-widgets/base",
      "_model_module_version": "1.2.0",
      "_model_name": "LayoutModel",
      "_view_count": null,
      "_view_module": "@jupyter-widgets/base",
      "_view_module_version": "1.2.0",
      "_view_name": "LayoutView",
      "align_content": null,
      "align_items": null,
      "align_self": null,
      "border": null,
      "bottom": null,
      "display": null,
      "flex": null,
      "flex_flow": null,
      "grid_area": null,
      "grid_auto_columns": null,
      "grid_auto_flow": null,
      "grid_auto_rows": null,
      "grid_column": null,
      "grid_gap": null,
      "grid_row": null,
      "grid_template_areas": null,
      "grid_template_columns": null,
      "grid_template_rows": null,
      "height": null,
      "justify_content": null,
      "justify_items": null,
      "left": null,
      "margin": null,
      "max_height": null,
      "max_width": null,
      "min_height": null,
      "min_width": null,
      "object_fit": null,
      "object_position": null,
      "order": null,
      "overflow": null,
      "overflow_x": null,
      "overflow_y": null,
      "padding": null,
      "right": null,
      "top": null,
      "visibility": null,
      "width": null
     }
    },
    "a099cac7758b4009bbd2b1cd0e8e055d": {
     "model_module": "@jupyter-widgets/base",
     "model_module_version": "1.2.0",
     "model_name": "LayoutModel",
     "state": {
      "_model_module": "@jupyter-widgets/base",
      "_model_module_version": "1.2.0",
      "_model_name": "LayoutModel",
      "_view_count": null,
      "_view_module": "@jupyter-widgets/base",
      "_view_module_version": "1.2.0",
      "_view_name": "LayoutView",
      "align_content": null,
      "align_items": null,
      "align_self": null,
      "border": null,
      "bottom": null,
      "display": null,
      "flex": null,
      "flex_flow": null,
      "grid_area": null,
      "grid_auto_columns": null,
      "grid_auto_flow": null,
      "grid_auto_rows": null,
      "grid_column": null,
      "grid_gap": null,
      "grid_row": null,
      "grid_template_areas": null,
      "grid_template_columns": null,
      "grid_template_rows": null,
      "height": null,
      "justify_content": null,
      "justify_items": null,
      "left": null,
      "margin": null,
      "max_height": null,
      "max_width": null,
      "min_height": null,
      "min_width": null,
      "object_fit": null,
      "object_position": null,
      "order": null,
      "overflow": null,
      "overflow_x": null,
      "overflow_y": null,
      "padding": null,
      "right": null,
      "top": null,
      "visibility": null,
      "width": null
     }
    },
    "a23ce91451024804953294ad5c0e37ed": {
     "model_module": "@jupyter-widgets/controls",
     "model_module_version": "1.5.0",
     "model_name": "ProgressStyleModel",
     "state": {
      "_model_module": "@jupyter-widgets/controls",
      "_model_module_version": "1.5.0",
      "_model_name": "ProgressStyleModel",
      "_view_count": null,
      "_view_module": "@jupyter-widgets/base",
      "_view_module_version": "1.2.0",
      "_view_name": "StyleView",
      "bar_color": null,
      "description_width": ""
     }
    },
    "a5951dc9201045f2949f9d96ed9f2fd0": {
     "model_module": "@jupyter-widgets/controls",
     "model_module_version": "1.5.0",
     "model_name": "FloatProgressModel",
     "state": {
      "_dom_classes": [],
      "_model_module": "@jupyter-widgets/controls",
      "_model_module_version": "1.5.0",
      "_model_name": "FloatProgressModel",
      "_view_count": null,
      "_view_module": "@jupyter-widgets/controls",
      "_view_module_version": "1.5.0",
      "_view_name": "ProgressView",
      "bar_style": "success",
      "description": "",
      "description_tooltip": null,
      "layout": "IPY_MODEL_e3b9b9978fd24f4a8a3f60dc4e5d6245",
      "max": 570,
      "min": 0,
      "orientation": "horizontal",
      "style": "IPY_MODEL_f874009e78ca459aa42080c8adedd893",
      "value": 570
     }
    },
    "a7e517275c744bb3a655b509e3d4d943": {
     "model_module": "@jupyter-widgets/controls",
     "model_module_version": "1.5.0",
     "model_name": "HTMLModel",
     "state": {
      "_dom_classes": [],
      "_model_module": "@jupyter-widgets/controls",
      "_model_module_version": "1.5.0",
      "_model_name": "HTMLModel",
      "_view_count": null,
      "_view_module": "@jupyter-widgets/controls",
      "_view_module_version": "1.5.0",
      "_view_name": "HTMLView",
      "description": "",
      "description_tooltip": null,
      "layout": "IPY_MODEL_ccbe03f50fbc406598a6a901f0f1c7aa",
      "placeholder": "​",
      "style": "IPY_MODEL_0831b67d7db844189e21244910b1fbcf",
      "value": " 570/570 [00:00&lt;00:00, 34.1kB/s]"
     }
    },
    "a852f6cf7d04404bb5e886c0b34b77df": {
     "model_module": "@jupyter-widgets/controls",
     "model_module_version": "1.5.0",
     "model_name": "FloatProgressModel",
     "state": {
      "_dom_classes": [],
      "_model_module": "@jupyter-widgets/controls",
      "_model_module_version": "1.5.0",
      "_model_name": "FloatProgressModel",
      "_view_count": null,
      "_view_module": "@jupyter-widgets/controls",
      "_view_module_version": "1.5.0",
      "_view_name": "ProgressView",
      "bar_style": "success",
      "description": "",
      "description_tooltip": null,
      "layout": "IPY_MODEL_b07e3fda91b24edc8ec7c5174cbd3f72",
      "max": 231508,
      "min": 0,
      "orientation": "horizontal",
      "style": "IPY_MODEL_c70720fcf4d94ec7aba130ff88e32b9e",
      "value": 231508
     }
    },
    "ad9b9354e4554b57a2766af450610ae1": {
     "model_module": "@jupyter-widgets/base",
     "model_module_version": "1.2.0",
     "model_name": "LayoutModel",
     "state": {
      "_model_module": "@jupyter-widgets/base",
      "_model_module_version": "1.2.0",
      "_model_name": "LayoutModel",
      "_view_count": null,
      "_view_module": "@jupyter-widgets/base",
      "_view_module_version": "1.2.0",
      "_view_name": "LayoutView",
      "align_content": null,
      "align_items": null,
      "align_self": null,
      "border": null,
      "bottom": null,
      "display": null,
      "flex": null,
      "flex_flow": null,
      "grid_area": null,
      "grid_auto_columns": null,
      "grid_auto_flow": null,
      "grid_auto_rows": null,
      "grid_column": null,
      "grid_gap": null,
      "grid_row": null,
      "grid_template_areas": null,
      "grid_template_columns": null,
      "grid_template_rows": null,
      "height": null,
      "justify_content": null,
      "justify_items": null,
      "left": null,
      "margin": null,
      "max_height": null,
      "max_width": null,
      "min_height": null,
      "min_width": null,
      "object_fit": null,
      "object_position": null,
      "order": null,
      "overflow": null,
      "overflow_x": null,
      "overflow_y": null,
      "padding": null,
      "right": null,
      "top": null,
      "visibility": null,
      "width": null
     }
    },
    "b07e3fda91b24edc8ec7c5174cbd3f72": {
     "model_module": "@jupyter-widgets/base",
     "model_module_version": "1.2.0",
     "model_name": "LayoutModel",
     "state": {
      "_model_module": "@jupyter-widgets/base",
      "_model_module_version": "1.2.0",
      "_model_name": "LayoutModel",
      "_view_count": null,
      "_view_module": "@jupyter-widgets/base",
      "_view_module_version": "1.2.0",
      "_view_name": "LayoutView",
      "align_content": null,
      "align_items": null,
      "align_self": null,
      "border": null,
      "bottom": null,
      "display": null,
      "flex": null,
      "flex_flow": null,
      "grid_area": null,
      "grid_auto_columns": null,
      "grid_auto_flow": null,
      "grid_auto_rows": null,
      "grid_column": null,
      "grid_gap": null,
      "grid_row": null,
      "grid_template_areas": null,
      "grid_template_columns": null,
      "grid_template_rows": null,
      "height": null,
      "justify_content": null,
      "justify_items": null,
      "left": null,
      "margin": null,
      "max_height": null,
      "max_width": null,
      "min_height": null,
      "min_width": null,
      "object_fit": null,
      "object_position": null,
      "order": null,
      "overflow": null,
      "overflow_x": null,
      "overflow_y": null,
      "padding": null,
      "right": null,
      "top": null,
      "visibility": null,
      "width": null
     }
    },
    "b0bec2a488354d9b9bcacb035c471119": {
     "model_module": "@jupyter-widgets/controls",
     "model_module_version": "1.5.0",
     "model_name": "DescriptionStyleModel",
     "state": {
      "_model_module": "@jupyter-widgets/controls",
      "_model_module_version": "1.5.0",
      "_model_name": "DescriptionStyleModel",
      "_view_count": null,
      "_view_module": "@jupyter-widgets/base",
      "_view_module_version": "1.2.0",
      "_view_name": "StyleView",
      "description_width": ""
     }
    },
    "b1cc875ba5af45aaaed74df884e0d9cb": {
     "model_module": "@jupyter-widgets/controls",
     "model_module_version": "1.5.0",
     "model_name": "HTMLModel",
     "state": {
      "_dom_classes": [],
      "_model_module": "@jupyter-widgets/controls",
      "_model_module_version": "1.5.0",
      "_model_name": "HTMLModel",
      "_view_count": null,
      "_view_module": "@jupyter-widgets/controls",
      "_view_module_version": "1.5.0",
      "_view_name": "HTMLView",
      "description": "",
      "description_tooltip": null,
      "layout": "IPY_MODEL_ad9b9354e4554b57a2766af450610ae1",
      "placeholder": "​",
      "style": "IPY_MODEL_b0bec2a488354d9b9bcacb035c471119",
      "value": " 232k/232k [00:00&lt;00:00, 1.99MB/s]"
     }
    },
    "c70720fcf4d94ec7aba130ff88e32b9e": {
     "model_module": "@jupyter-widgets/controls",
     "model_module_version": "1.5.0",
     "model_name": "ProgressStyleModel",
     "state": {
      "_model_module": "@jupyter-widgets/controls",
      "_model_module_version": "1.5.0",
      "_model_name": "ProgressStyleModel",
      "_view_count": null,
      "_view_module": "@jupyter-widgets/base",
      "_view_module_version": "1.2.0",
      "_view_name": "StyleView",
      "bar_color": null,
      "description_width": ""
     }
    },
    "c920f2d10c7e4752948d8df36d91eebc": {
     "model_module": "@jupyter-widgets/controls",
     "model_module_version": "1.5.0",
     "model_name": "HTMLModel",
     "state": {
      "_dom_classes": [],
      "_model_module": "@jupyter-widgets/controls",
      "_model_module_version": "1.5.0",
      "_model_name": "HTMLModel",
      "_view_count": null,
      "_view_module": "@jupyter-widgets/controls",
      "_view_module_version": "1.5.0",
      "_view_name": "HTMLView",
      "description": "",
      "description_tooltip": null,
      "layout": "IPY_MODEL_85978739e37040ba982aa4ae6488fd26",
      "placeholder": "​",
      "style": "IPY_MODEL_e2ba70453aae4ad4ae6a440c3cd1255f",
      "value": "Downloading (…)lve/main/config.json: 100%"
     }
    },
    "ccb3bae5395440909285dcec5c52e228": {
     "model_module": "@jupyter-widgets/base",
     "model_module_version": "1.2.0",
     "model_name": "LayoutModel",
     "state": {
      "_model_module": "@jupyter-widgets/base",
      "_model_module_version": "1.2.0",
      "_model_name": "LayoutModel",
      "_view_count": null,
      "_view_module": "@jupyter-widgets/base",
      "_view_module_version": "1.2.0",
      "_view_name": "LayoutView",
      "align_content": null,
      "align_items": null,
      "align_self": null,
      "border": null,
      "bottom": null,
      "display": null,
      "flex": null,
      "flex_flow": null,
      "grid_area": null,
      "grid_auto_columns": null,
      "grid_auto_flow": null,
      "grid_auto_rows": null,
      "grid_column": null,
      "grid_gap": null,
      "grid_row": null,
      "grid_template_areas": null,
      "grid_template_columns": null,
      "grid_template_rows": null,
      "height": null,
      "justify_content": null,
      "justify_items": null,
      "left": null,
      "margin": null,
      "max_height": null,
      "max_width": null,
      "min_height": null,
      "min_width": null,
      "object_fit": null,
      "object_position": null,
      "order": null,
      "overflow": null,
      "overflow_x": null,
      "overflow_y": null,
      "padding": null,
      "right": null,
      "top": null,
      "visibility": null,
      "width": null
     }
    },
    "ccbe03f50fbc406598a6a901f0f1c7aa": {
     "model_module": "@jupyter-widgets/base",
     "model_module_version": "1.2.0",
     "model_name": "LayoutModel",
     "state": {
      "_model_module": "@jupyter-widgets/base",
      "_model_module_version": "1.2.0",
      "_model_name": "LayoutModel",
      "_view_count": null,
      "_view_module": "@jupyter-widgets/base",
      "_view_module_version": "1.2.0",
      "_view_name": "LayoutView",
      "align_content": null,
      "align_items": null,
      "align_self": null,
      "border": null,
      "bottom": null,
      "display": null,
      "flex": null,
      "flex_flow": null,
      "grid_area": null,
      "grid_auto_columns": null,
      "grid_auto_flow": null,
      "grid_auto_rows": null,
      "grid_column": null,
      "grid_gap": null,
      "grid_row": null,
      "grid_template_areas": null,
      "grid_template_columns": null,
      "grid_template_rows": null,
      "height": null,
      "justify_content": null,
      "justify_items": null,
      "left": null,
      "margin": null,
      "max_height": null,
      "max_width": null,
      "min_height": null,
      "min_width": null,
      "object_fit": null,
      "object_position": null,
      "order": null,
      "overflow": null,
      "overflow_x": null,
      "overflow_y": null,
      "padding": null,
      "right": null,
      "top": null,
      "visibility": null,
      "width": null
     }
    },
    "d1aaeb253e7a4462ba3e9454cc701362": {
     "model_module": "@jupyter-widgets/base",
     "model_module_version": "1.2.0",
     "model_name": "LayoutModel",
     "state": {
      "_model_module": "@jupyter-widgets/base",
      "_model_module_version": "1.2.0",
      "_model_name": "LayoutModel",
      "_view_count": null,
      "_view_module": "@jupyter-widgets/base",
      "_view_module_version": "1.2.0",
      "_view_name": "LayoutView",
      "align_content": null,
      "align_items": null,
      "align_self": null,
      "border": null,
      "bottom": null,
      "display": null,
      "flex": null,
      "flex_flow": null,
      "grid_area": null,
      "grid_auto_columns": null,
      "grid_auto_flow": null,
      "grid_auto_rows": null,
      "grid_column": null,
      "grid_gap": null,
      "grid_row": null,
      "grid_template_areas": null,
      "grid_template_columns": null,
      "grid_template_rows": null,
      "height": null,
      "justify_content": null,
      "justify_items": null,
      "left": null,
      "margin": null,
      "max_height": null,
      "max_width": null,
      "min_height": null,
      "min_width": null,
      "object_fit": null,
      "object_position": null,
      "order": null,
      "overflow": null,
      "overflow_x": null,
      "overflow_y": null,
      "padding": null,
      "right": null,
      "top": null,
      "visibility": null,
      "width": null
     }
    },
    "d3308fb06e774fb7b8e892a19ea62264": {
     "model_module": "@jupyter-widgets/controls",
     "model_module_version": "1.5.0",
     "model_name": "HTMLModel",
     "state": {
      "_dom_classes": [],
      "_model_module": "@jupyter-widgets/controls",
      "_model_module_version": "1.5.0",
      "_model_name": "HTMLModel",
      "_view_count": null,
      "_view_module": "@jupyter-widgets/controls",
      "_view_module_version": "1.5.0",
      "_view_name": "HTMLView",
      "description": "",
      "description_tooltip": null,
      "layout": "IPY_MODEL_66928149b0024e74ae4aa9bcccd862f1",
      "placeholder": "​",
      "style": "IPY_MODEL_d33e8171c51c49cab0127006706c3ea2",
      "value": "Downloading (…)solve/main/vocab.txt: 100%"
     }
    },
    "d33e8171c51c49cab0127006706c3ea2": {
     "model_module": "@jupyter-widgets/controls",
     "model_module_version": "1.5.0",
     "model_name": "DescriptionStyleModel",
     "state": {
      "_model_module": "@jupyter-widgets/controls",
      "_model_module_version": "1.5.0",
      "_model_name": "DescriptionStyleModel",
      "_view_count": null,
      "_view_module": "@jupyter-widgets/base",
      "_view_module_version": "1.2.0",
      "_view_name": "StyleView",
      "description_width": ""
     }
    },
    "dfbf2fee6c414255a1300e76f3302c98": {
     "model_module": "@jupyter-widgets/controls",
     "model_module_version": "1.5.0",
     "model_name": "HBoxModel",
     "state": {
      "_dom_classes": [],
      "_model_module": "@jupyter-widgets/controls",
      "_model_module_version": "1.5.0",
      "_model_name": "HBoxModel",
      "_view_count": null,
      "_view_module": "@jupyter-widgets/controls",
      "_view_module_version": "1.5.0",
      "_view_name": "HBoxView",
      "box_style": "",
      "children": [
       "IPY_MODEL_c920f2d10c7e4752948d8df36d91eebc",
       "IPY_MODEL_a5951dc9201045f2949f9d96ed9f2fd0",
       "IPY_MODEL_a7e517275c744bb3a655b509e3d4d943"
      ],
      "layout": "IPY_MODEL_92c04433d8204296acacd3573abab4ba"
     }
    },
    "dfcd677a802a492e85d26cb2211c161a": {
     "model_module": "@jupyter-widgets/controls",
     "model_module_version": "1.5.0",
     "model_name": "FloatProgressModel",
     "state": {
      "_dom_classes": [],
      "_model_module": "@jupyter-widgets/controls",
      "_model_module_version": "1.5.0",
      "_model_name": "FloatProgressModel",
      "_view_count": null,
      "_view_module": "@jupyter-widgets/controls",
      "_view_module_version": "1.5.0",
      "_view_name": "ProgressView",
      "bar_style": "success",
      "description": "",
      "description_tooltip": null,
      "layout": "IPY_MODEL_52cf4d5e81b34dc4b36ec76ea6272df8",
      "max": 28,
      "min": 0,
      "orientation": "horizontal",
      "style": "IPY_MODEL_a23ce91451024804953294ad5c0e37ed",
      "value": 28
     }
    },
    "e2ba70453aae4ad4ae6a440c3cd1255f": {
     "model_module": "@jupyter-widgets/controls",
     "model_module_version": "1.5.0",
     "model_name": "DescriptionStyleModel",
     "state": {
      "_model_module": "@jupyter-widgets/controls",
      "_model_module_version": "1.5.0",
      "_model_name": "DescriptionStyleModel",
      "_view_count": null,
      "_view_module": "@jupyter-widgets/base",
      "_view_module_version": "1.2.0",
      "_view_name": "StyleView",
      "description_width": ""
     }
    },
    "e3b9b9978fd24f4a8a3f60dc4e5d6245": {
     "model_module": "@jupyter-widgets/base",
     "model_module_version": "1.2.0",
     "model_name": "LayoutModel",
     "state": {
      "_model_module": "@jupyter-widgets/base",
      "_model_module_version": "1.2.0",
      "_model_name": "LayoutModel",
      "_view_count": null,
      "_view_module": "@jupyter-widgets/base",
      "_view_module_version": "1.2.0",
      "_view_name": "LayoutView",
      "align_content": null,
      "align_items": null,
      "align_self": null,
      "border": null,
      "bottom": null,
      "display": null,
      "flex": null,
      "flex_flow": null,
      "grid_area": null,
      "grid_auto_columns": null,
      "grid_auto_flow": null,
      "grid_auto_rows": null,
      "grid_column": null,
      "grid_gap": null,
      "grid_row": null,
      "grid_template_areas": null,
      "grid_template_columns": null,
      "grid_template_rows": null,
      "height": null,
      "justify_content": null,
      "justify_items": null,
      "left": null,
      "margin": null,
      "max_height": null,
      "max_width": null,
      "min_height": null,
      "min_width": null,
      "object_fit": null,
      "object_position": null,
      "order": null,
      "overflow": null,
      "overflow_x": null,
      "overflow_y": null,
      "padding": null,
      "right": null,
      "top": null,
      "visibility": null,
      "width": null
     }
    },
    "f26bb85ec3c44508b320ce746daf5534": {
     "model_module": "@jupyter-widgets/controls",
     "model_module_version": "1.5.0",
     "model_name": "HTMLModel",
     "state": {
      "_dom_classes": [],
      "_model_module": "@jupyter-widgets/controls",
      "_model_module_version": "1.5.0",
      "_model_name": "HTMLModel",
      "_view_count": null,
      "_view_module": "@jupyter-widgets/controls",
      "_view_module_version": "1.5.0",
      "_view_name": "HTMLView",
      "description": "",
      "description_tooltip": null,
      "layout": "IPY_MODEL_ccb3bae5395440909285dcec5c52e228",
      "placeholder": "​",
      "style": "IPY_MODEL_0e117e91d5834e14bfcf05e7a257f42b",
      "value": "Downloading (…)okenizer_config.json: 100%"
     }
    },
    "f874009e78ca459aa42080c8adedd893": {
     "model_module": "@jupyter-widgets/controls",
     "model_module_version": "1.5.0",
     "model_name": "ProgressStyleModel",
     "state": {
      "_model_module": "@jupyter-widgets/controls",
      "_model_module_version": "1.5.0",
      "_model_name": "ProgressStyleModel",
      "_view_count": null,
      "_view_module": "@jupyter-widgets/base",
      "_view_module_version": "1.2.0",
      "_view_name": "StyleView",
      "bar_color": null,
      "description_width": ""
     }
    },
    "fee5488bbf654d26a796399e31e8f62f": {
     "model_module": "@jupyter-widgets/controls",
     "model_module_version": "1.5.0",
     "model_name": "HTMLModel",
     "state": {
      "_dom_classes": [],
      "_model_module": "@jupyter-widgets/controls",
      "_model_module_version": "1.5.0",
      "_model_name": "HTMLModel",
      "_view_count": null,
      "_view_module": "@jupyter-widgets/controls",
      "_view_module_version": "1.5.0",
      "_view_name": "HTMLView",
      "description": "",
      "description_tooltip": null,
      "layout": "IPY_MODEL_35470cb2227940459210e00271b3d798",
      "placeholder": "​",
      "style": "IPY_MODEL_064189f9354f492f82805367263ed763",
      "value": " 28.0/28.0 [00:00&lt;00:00, 1.08kB/s]"
     }
    }
   }
  }
 },
 "nbformat": 4,
 "nbformat_minor": 5
}
